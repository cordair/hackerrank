{
 "cells": [
  {
   "cell_type": "code",
   "execution_count": 5,
   "id": "bd77e232",
   "metadata": {},
   "outputs": [
    {
     "name": "stdout",
     "output_type": "stream",
     "text": [
      "[[0, 0, 0], [0, 0, 1], [0, 0, 2], [0, 1, 0], [0, 1, 1], [0, 1, 2], [1, 0, 0], [1, 0, 1], [1, 0, 2], [1, 1, 0], [1, 1, 1], [1, 1, 2]]\n",
      "[[0, 0, 0], [0, 0, 1], [0, 0, 2], [0, 1, 0], [0, 1, 1], [1, 0, 0], [1, 0, 1], [1, 1, 0]]\n"
     ]
    }
   ],
   "source": [
    "# HackerRank https://www.hackerrank.com/challenges/list-comprehensions/problem\n",
    "\n",
    "x = 1\n",
    "y = 1\n",
    "z = 2\n",
    "n = 3\n",
    "triples =[]\n",
    "\n",
    "\n",
    "# Find all possible triples [i,j,k] with i <= x, j <= y, k <= z\n",
    "for i in range(x+1):\n",
    "    for j in range(y+1):\n",
    "        for k in range(z+1):\n",
    "            triples.append([i,j,k])\n",
    "\n",
    "print(triples)\n",
    "\n",
    "\n",
    "# Triples whose components sum less than n\n",
    "sum_less_than_n = []\n",
    "\n",
    "for triple in triples:\n",
    "    if triple[0]+triple[1]+triple[2] != n:\n",
    "        sum_less_than_n.append(triple)\n",
    "        \n",
    "print(sum_less_than_n)"
   ]
  },
  {
   "cell_type": "code",
   "execution_count": 12,
   "id": "fb05574b",
   "metadata": {},
   "outputs": [
    {
     "name": "stdout",
     "output_type": "stream",
     "text": [
      "[[0, 0, 0], [0, 0, 1], [0, 0, 2], [0, 1, 0], [0, 1, 1], [0, 1, 2], [1, 0, 0], [1, 0, 1], [1, 0, 2], [1, 1, 0], [1, 1, 1], [1, 1, 2]]\n",
      "[[0, 0, 0], [0, 0, 1], [0, 0, 2], [0, 1, 0], [0, 1, 1], [1, 0, 0], [1, 0, 1], [1, 1, 0], [1, 1, 2]]\n"
     ]
    }
   ],
   "source": [
    "# Using list comprehensions\n",
    "\n",
    "x = 1\n",
    "y = 1\n",
    "z = 2\n",
    "n = 3\n",
    "\n",
    "triples = [[i,j,k] for i in range(x+1) for j in range(y+1) for k in range(z+1)]\n",
    "print(triples)\n",
    "\n",
    "sum_less_than_n = [triple for triple in triples if sum(triple) != n]\n",
    "print(sum_less_than_n)"
   ]
  },
  {
   "cell_type": "code",
   "execution_count": 11,
   "id": "02d224ac",
   "metadata": {},
   "outputs": [
    {
     "name": "stdout",
     "output_type": "stream",
     "text": [
      "[[0, 0, 0], [0, 0, 1], [0, 0, 2], [0, 1, 0], [0, 1, 1], [1, 0, 0], [1, 0, 1], [1, 1, 0], [1, 1, 2]]\n"
     ]
    }
   ],
   "source": [
    "# Using just one list comprehension\n",
    "\n",
    "x = 1\n",
    "y = 1\n",
    "z = 2\n",
    "n = 3\n",
    "\n",
    "triples = [[i,j,k] for i in range(x+1) for j in range(y+1) for k in range(z+1) if i+j+k != n]\n",
    "print(triples)"
   ]
  }
 ],
 "metadata": {
  "kernelspec": {
   "display_name": "Python 3 (ipykernel)",
   "language": "python",
   "name": "python3"
  },
  "language_info": {
   "codemirror_mode": {
    "name": "ipython",
    "version": 3
   },
   "file_extension": ".py",
   "mimetype": "text/x-python",
   "name": "python",
   "nbconvert_exporter": "python",
   "pygments_lexer": "ipython3",
   "version": "3.8.8"
  }
 },
 "nbformat": 4,
 "nbformat_minor": 5
}
