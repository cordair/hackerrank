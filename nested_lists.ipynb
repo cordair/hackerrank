{
 "cells": [
  {
   "cell_type": "code",
   "execution_count": 4,
   "id": "8760830a",
   "metadata": {},
   "outputs": [],
   "source": [
    "scores = [['a',3],['c',5],['b',2],['ab',5]]"
   ]
  },
  {
   "cell_type": "code",
   "execution_count": 6,
   "id": "b6c861fc",
   "metadata": {},
   "outputs": [
    {
     "name": "stdout",
     "output_type": "stream",
     "text": [
      "4\n",
      "a\n",
      "3\n",
      "c\n",
      "5\n",
      "b\n",
      "2\n",
      "ab\n",
      "5\n"
     ]
    }
   ],
   "source": [
    "scores = []\n",
    "for _ in range(int(input())):\n",
    "    name = input()\n",
    "    score = float(input())\n",
    "    scores.append([name,score])\n",
    "        "
   ]
  },
  {
   "cell_type": "code",
   "execution_count": 30,
   "id": "7ec1e6a5",
   "metadata": {},
   "outputs": [
    {
     "name": "stdout",
     "output_type": "stream",
     "text": [
      "['a', 'c', 'b', 'ab']\n",
      "[3.0, 5.0, 2.0, 5.0]\n",
      "[2.0, 3.0, 5.0]\n",
      "['a']\n",
      "a\n"
     ]
    }
   ],
   "source": [
    "names = []\n",
    "score = []\n",
    "# Store names and scores in separate lists\n",
    "for pair in scores: # scores = [['a',3],['c',5],['b',2],['ab',5]]\n",
    "    names.append(pair[0])\n",
    "    score.append(pair[1])\n",
    "    \n",
    "print(names)\n",
    "print(score)\n",
    "\n",
    "# Find second lowest score\n",
    "unique_scores = list(set(score))\n",
    "unique_scores.sort()\n",
    "print(unique_scores)\n",
    "second_lowest = unique_scores[1] # second lowest, 3.0\n",
    "\n",
    "student_names = []\n",
    "\n",
    "for pair in scores:\n",
    "    if pair[1] == second_lowest: # the student has second lowest score\n",
    "        student_names.append(pair[0]) \n",
    "        \n",
    "student_names.sort()\n",
    "print(student_names) # Students with second lowest score, alphabetical order\n",
    "print(*student_names, sep='\\n')\n"
   ]
  }
 ],
 "metadata": {
  "kernelspec": {
   "display_name": "Python 3 (ipykernel)",
   "language": "python",
   "name": "python3"
  },
  "language_info": {
   "codemirror_mode": {
    "name": "ipython",
    "version": 3
   },
   "file_extension": ".py",
   "mimetype": "text/x-python",
   "name": "python",
   "nbconvert_exporter": "python",
   "pygments_lexer": "ipython3",
   "version": "3.8.8"
  }
 },
 "nbformat": 4,
 "nbformat_minor": 5
}
